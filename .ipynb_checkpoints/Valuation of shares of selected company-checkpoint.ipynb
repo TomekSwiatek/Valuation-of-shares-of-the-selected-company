{
 "cells": [
  {
   "cell_type": "markdown",
   "metadata": {},
   "source": [
    "# Valuation of shares of the selected company using 3 methods"
   ]
  },
  {
   "cell_type": "markdown",
   "metadata": {},
   "source": [
    "## 1. Method based on discounted cash flow (DCF)"
   ]
  },
  {
   "cell_type": "markdown",
   "metadata": {},
   "source": [
    "Discounted cash flow (DCF) is one of the methods used to value an investment, company or other asset based on its expected future cash flows and changes in the value of money over time. The purpose of this method is to estimate and discount all future cash flows to determine their present value. The discount rate level is the cost of capital and takes into account the risk assessment regarding future cash flows.<br>\n",
    "The discounted cash flow method is widely used in the areas of financial investment analysis, real estate development and corporate management.\n",
    "The calculations given in the project are based on this method and adapted to the market environment based on personal experience."
   ]
  },
  {
   "cell_type": "markdown",
   "metadata": {},
   "source": [
    "### 1.1 Company parameters "
   ]
  },
  {
   "cell_type": "markdown",
   "metadata": {},
   "source": [
    "- Company name `e`"
   ]
  },
  {
   "cell_type": "code",
   "execution_count": 4,
   "metadata": {},
   "outputs": [],
   "source": [
    "e = 'Eurotel (ETL)'"
   ]
  },
  {
   "cell_type": "markdown",
   "metadata": {},
   "source": [
    "- The current market price `p`"
   ]
  },
  {
   "cell_type": "code",
   "execution_count": 5,
   "metadata": {},
   "outputs": [],
   "source": [
    "p = 36.8"
   ]
  },
  {
   "cell_type": "markdown",
   "metadata": {},
   "source": [
    "- Quantity of shares `eq`"
   ]
  },
  {
   "cell_type": "code",
   "execution_count": 6,
   "metadata": {},
   "outputs": [],
   "source": [
    "eq = 3748255"
   ]
  },
  {
   "cell_type": "markdown",
   "metadata": {},
   "source": [
    "- Average cash flow `acf`"
   ]
  },
  {
   "cell_type": "code",
   "execution_count": 7,
   "metadata": {},
   "outputs": [],
   "source": [
    "acf = 3500*1000"
   ]
  },
  {
   "cell_type": "markdown",
   "metadata": {},
   "source": [
    "- Profit increase (in a given growth period)`gp`"
   ]
  },
  {
   "cell_type": "code",
   "execution_count": 8,
   "metadata": {},
   "outputs": [],
   "source": [
    "gp = 0.15"
   ]
  },
  {
   "cell_type": "markdown",
   "metadata": {},
   "source": [
    "- Profit increase after a given period (assumed 50% decrease, additional cash flow after a period of high growth) `gpa`"
   ]
  },
  {
   "cell_type": "code",
   "execution_count": 9,
   "metadata": {},
   "outputs": [],
   "source": [
    "gpa = 0.075"
   ]
  },
  {
   "cell_type": "markdown",
   "metadata": {},
   "source": [
    "### 1.2 Valuation parameters"
   ]
  },
  {
   "cell_type": "markdown",
   "metadata": {},
   "source": [
    "- Number of years (the base period of the investment) `y`"
   ]
  },
  {
   "cell_type": "code",
   "execution_count": 10,
   "metadata": {},
   "outputs": [],
   "source": [
    "y = 10"
   ]
  },
  {
   "cell_type": "markdown",
   "metadata": {},
   "source": [
    "- Number of additional years (assumed additional investment period) `ya`"
   ]
  },
  {
   "cell_type": "code",
   "execution_count": 11,
   "metadata": {},
   "outputs": [],
   "source": [
    "ya = 20"
   ]
  },
  {
   "cell_type": "markdown",
   "metadata": {},
   "source": [
    "- Discounting (approximate value, based on cost of capital) `d`"
   ]
  },
  {
   "cell_type": "code",
   "execution_count": 12,
   "metadata": {},
   "outputs": [],
   "source": [
    "d = 0.1"
   ]
  },
  {
   "cell_type": "markdown",
   "metadata": {},
   "source": [
    "### 1.3 Calculation of the DFCF"
   ]
  },
  {
   "cell_type": "markdown",
   "metadata": {},
   "source": [
    "- Sum of cash flows in the base period `cft`"
   ]
  },
  {
   "cell_type": "code",
   "execution_count": 20,
   "metadata": {},
   "outputs": [
    {
     "name": "stdout",
     "output_type": "stream",
     "text": [
      "The sum of CF flows in the base period: 81722466\n"
     ]
    }
   ],
   "source": [
    "cf = 0\n",
    "cft = 0\n",
    "for i in range(1, y + 1):\n",
    "    cf = acf * (1 + gp) ** i    #flows in the following years\n",
    "    cft = cft + cf;             #sum of flows \n",
    "    \n",
    "print('The sum of CF flows in the base period: {}'.format(round(cft)))   "
   ]
  },
  {
   "cell_type": "markdown",
   "metadata": {},
   "source": [
    "- The sum of discounted cash flows in the base period `dfcft`"
   ]
  },
  {
   "cell_type": "code",
   "execution_count": 21,
   "metadata": {},
   "outputs": [
    {
     "name": "stdout",
     "output_type": "stream",
     "text": [
      "Sum of discounted DFCF flows in the base period : 45058880\n"
     ]
    }
   ],
   "source": [
    "cf = 0\n",
    "cfl = [0]\n",
    "dfcf = 0\n",
    "dfcft = 0\n",
    "\n",
    "for i in range(1, y + 1):\n",
    "    cf = acf * (1 + gp) ** i   #flows in the following years\n",
    "    cfl.append(cf)             #adding flows to the list\n",
    "    \n",
    "    dfcf = cf / ((1 + d) ** i) #discounted flows in the following years \n",
    "    dfcft = dfcft + dfcf;      #sum of discounted cash flows \n",
    "    \n",
    "print('Sum of discounted DFCF flows in the base period : {}'.format(round(dfcft)))"
   ]
  },
  {
   "cell_type": "markdown",
   "metadata": {},
   "source": [
    "- The sum of discounted cash flows after the base period `dpcft`"
   ]
  },
  {
   "cell_type": "code",
   "execution_count": 22,
   "metadata": {},
   "outputs": [
    {
     "name": "stdout",
     "output_type": "stream",
     "text": [
      "The sum of discounted DFCF flows over the additional period: 86521598\n"
     ]
    }
   ],
   "source": [
    "pcf = 0\n",
    "dpcf = 0\n",
    "dpcft = 0\n",
    "\n",
    "for i in range(1, ya + 1):\n",
    "    pcf = cfl[y] * (1 + gpa) ** i     #flows in subsequent years starting from the end of the base period \n",
    "  \n",
    "    dpcf = pcf / ((1 + d) ** (i + y)) #discounted flows in subsequent years, starting from the end of the analyzed period \n",
    "    dpcft = dpcft + dpcf;             #sum of discounted cash flows \n",
    "\n",
    "print('The sum of discounted DFCF flows over the additional period: {}'.format(round(dpcft)))"
   ]
  },
  {
   "cell_type": "markdown",
   "metadata": {},
   "source": [
    "### 1.4 Company valuation "
   ]
  },
  {
   "cell_type": "markdown",
   "metadata": {},
   "source": [
    "- Intrinsic value per share for the entire period `iv`"
   ]
  },
  {
   "cell_type": "code",
   "execution_count": 23,
   "metadata": {},
   "outputs": [
    {
     "name": "stdout",
     "output_type": "stream",
     "text": [
      "The intrinsic value per share: 35.1\n"
     ]
    }
   ],
   "source": [
    "iv = (dfcft + dpcft) / eq\n",
    "\n",
    "print('The intrinsic value per share: {}'.format(round(iv,2)))"
   ]
  },
  {
   "cell_type": "markdown",
   "metadata": {},
   "source": [
    "- Growth potential according to DCF (acceptable level above 100%) `r`"
   ]
  },
  {
   "cell_type": "code",
   "execution_count": 24,
   "metadata": {},
   "outputs": [
    {
     "name": "stdout",
     "output_type": "stream",
     "text": [
      "Growth potential: -4.61%\n"
     ]
    }
   ],
   "source": [
    "r=((iv - p) / p)\n",
    "\n",
    "print('Growth potential: {}%'.format(round(r*100,2)))"
   ]
  },
  {
   "cell_type": "markdown",
   "metadata": {},
   "source": [
    "- Average annual return `ar`"
   ]
  },
  {
   "cell_type": "code",
   "execution_count": 25,
   "metadata": {},
   "outputs": [
    {
     "name": "stdout",
     "output_type": "stream",
     "text": [
      "Annual return : -0.16%\n"
     ]
    }
   ],
   "source": [
    "ar=((1 + r) ** (1 / (y + ya)) - 1)\n",
    "\n",
    "print('Annual return : {}%'.format(round(ar * 100,2)))"
   ]
  },
  {
   "cell_type": "markdown",
   "metadata": {},
   "source": [
    "### 1.5 Summary of the results of the discounted cash flow method (DCF)"
   ]
  },
  {
   "cell_type": "code",
   "execution_count": 29,
   "metadata": {},
   "outputs": [
    {
     "name": "stdout",
     "output_type": "stream",
     "text": [
      "For the company : Eurotel (ETL)\n",
      "At market price: 37\n",
      "\n",
      "Achived the following results:\n",
      "  - Intrinsic value per share: 35.1\n",
      "  - Growth potential: -4.61%\n",
      "  - Average annual return: -0.16%\n"
     ]
    }
   ],
   "source": [
    "print('For the company :',e)\n",
    "print('At market price: {}\\n'.format(round(p)))\n",
    "\n",
    "print('Achived the following results:')\n",
    "print('  - Intrinsic value per share: {}'.format(round(iv,2)))\n",
    "print('  - Growth potential: {}%'.format(round(r*100,2)))\n",
    "print('  - Average annual return: {}%'.format(round(ar*100,2)))"
   ]
  },
  {
   "cell_type": "markdown",
   "metadata": {},
   "source": [
    "## 2. Metoda oparta o wzrost wartości księgowej (wg Warrena Buffeta)"
   ]
  },
  {
   "cell_type": "markdown",
   "metadata": {},
   "source": [
    "Metoda polega na obliczeniu wartości wewnętrznej spółki na podstawie wartości księgowej. Najpierw wyznacza się  średni wzrost wartości księgowej dla wybranego okresu. Następnie liczona jest wartość księgowa dla zadanego okresu w przyszłości. Dodatkowo do wartości księgowej dodawana jest wartość wypłaconej dywidendy. Ostateczna wartość wewnętrzna stanowi wartość księgową za x lat zdyskontowana poziomem kosztu kapitału w którym w tym wypadku jest rentowność 10-letnich obligacji rządowych. Dodatkowo do dyskonta doliczana jest dodatkowa, założona wartość, stanowiąca margines błędu wyceny."
   ]
  },
  {
   "cell_type": "markdown",
   "metadata": {},
   "source": [
    "Wartość księgowa na akcję = Kapitał własny/Liczba akcji. (ang. Book Value – BV) wskazuje, jaką wartość przedstawiają aktywa spółki i informuje akcjonariuszy jaka wartość księgowa przypada na jedną akcję."
   ]
  },
  {
   "cell_type": "markdown",
   "metadata": {},
   "source": [
    "### 2.1 Parametry badanej spółki"
   ]
  },
  {
   "cell_type": "markdown",
   "metadata": {},
   "source": [
    "- Nazwa spółki `e`"
   ]
  },
  {
   "cell_type": "code",
   "execution_count": 17,
   "metadata": {},
   "outputs": [],
   "source": [
    "e = 'Eurotel (ETL)'"
   ]
  },
  {
   "cell_type": "markdown",
   "metadata": {},
   "source": [
    "- Aktualna cena rynkowa `p`"
   ]
  },
  {
   "cell_type": "code",
   "execution_count": 18,
   "metadata": {},
   "outputs": [],
   "source": [
    "p = 36.8"
   ]
  },
  {
   "cell_type": "markdown",
   "metadata": {},
   "source": [
    "- Wartość księgowa na akcje początkowa `bvi`"
   ]
  },
  {
   "cell_type": "code",
   "execution_count": 19,
   "metadata": {},
   "outputs": [],
   "source": [
    "bvi = 6.25"
   ]
  },
  {
   "cell_type": "markdown",
   "metadata": {},
   "source": [
    "- Wartość księgowa na akcje obecna `bv`"
   ]
  },
  {
   "cell_type": "code",
   "execution_count": 20,
   "metadata": {},
   "outputs": [],
   "source": [
    "bv = 20.37"
   ]
  },
  {
   "cell_type": "markdown",
   "metadata": {},
   "source": [
    "- Ilość lat wzrostu wartości księgowej `ywk`"
   ]
  },
  {
   "cell_type": "code",
   "execution_count": 21,
   "metadata": {},
   "outputs": [],
   "source": [
    "ybv = 16"
   ]
  },
  {
   "cell_type": "markdown",
   "metadata": {},
   "source": [
    "- Wartość dywidendy an akcje `dv`"
   ]
  },
  {
   "cell_type": "code",
   "execution_count": 22,
   "metadata": {},
   "outputs": [],
   "source": [
    "dv = 0"
   ]
  },
  {
   "cell_type": "markdown",
   "metadata": {},
   "source": [
    "### 2.2 Parametry wyceny"
   ]
  },
  {
   "cell_type": "markdown",
   "metadata": {},
   "source": [
    "- Ilość lat (bazowy okres inwestycji) `y`"
   ]
  },
  {
   "cell_type": "code",
   "execution_count": 1,
   "metadata": {},
   "outputs": [],
   "source": [
    "y = 10"
   ]
  },
  {
   "cell_type": "markdown",
   "metadata": {},
   "source": [
    "- Zdyskontowanie (oprocentowanie 10-letnich obligacji rządowych) `d`"
   ]
  },
  {
   "cell_type": "code",
   "execution_count": 2,
   "metadata": {},
   "outputs": [],
   "source": [
    "d = 1.56"
   ]
  },
  {
   "cell_type": "markdown",
   "metadata": {},
   "source": [
    "- Dodatkowe zdyskontowanie (przybliżona wartość, jako dodatkowy margines błędu wyceny) `da`"
   ]
  },
  {
   "cell_type": "code",
   "execution_count": 25,
   "metadata": {},
   "outputs": [],
   "source": [
    "da = 3"
   ]
  },
  {
   "cell_type": "markdown",
   "metadata": {},
   "source": [
    "### 2.3 Obliczenie wartości księgowej w badanym okresie"
   ]
  },
  {
   "cell_type": "markdown",
   "metadata": {},
   "source": [
    "- Średni wzrost wartości księgowe `ag`"
   ]
  },
  {
   "cell_type": "code",
   "execution_count": 26,
   "metadata": {},
   "outputs": [
    {
     "name": "stdout",
     "output_type": "stream",
     "text": [
      "Średnioroczny wzrost wartości księgowej: 7.66%\n"
     ]
    }
   ],
   "source": [
    "ag = (bv / bvi) ** (1 / ybv) - 1\n",
    "\n",
    "print('Średnioroczny wzrost wartości księgowej: {}%'.format(round(ag*100,2)))"
   ]
  },
  {
   "cell_type": "markdown",
   "metadata": {},
   "source": [
    "- Finalna wartość księgowa po okresie inwestycji `bvf`"
   ]
  },
  {
   "cell_type": "code",
   "execution_count": 27,
   "metadata": {},
   "outputs": [
    {
     "name": "stdout",
     "output_type": "stream",
     "text": [
      "Finalna wartość księgowa po okresie inwestycji: 42.63\n"
     ]
    }
   ],
   "source": [
    "bvf = (bv * (ag + 1) ** y + dv * y)\n",
    "\n",
    "print('Finalna wartość księgowa po okresie inwestycji: {}'.format(round(bvf,2)))"
   ]
  },
  {
   "cell_type": "markdown",
   "metadata": {},
   "source": [
    "### 2.4 Wycena spółki"
   ]
  },
  {
   "cell_type": "markdown",
   "metadata": {},
   "source": [
    "- Wartość wewnętrzna na 1 akcje `iv`"
   ]
  },
  {
   "cell_type": "code",
   "execution_count": 28,
   "metadata": {},
   "outputs": [
    {
     "name": "stdout",
     "output_type": "stream",
     "text": [
      "Wartość wewnętrzna: 29.28\n"
     ]
    }
   ],
   "source": [
    "iv = bvf / (1 + y * ((d + da) / 100))\n",
    "\n",
    "print('Wartość wewnętrzna: {}'.format(round(iv,2)))"
   ]
  },
  {
   "cell_type": "markdown",
   "metadata": {},
   "source": [
    "- Potencjał wzrostu wg wartości księgowej (akceptowalny poziom powyżej 100%) `r`"
   ]
  },
  {
   "cell_type": "code",
   "execution_count": 29,
   "metadata": {},
   "outputs": [
    {
     "name": "stdout",
     "output_type": "stream",
     "text": [
      "Potencjał wzrostu: -20.44%\n"
     ]
    }
   ],
   "source": [
    "r = ((iv - p) / p)\n",
    "\n",
    "print('Potencjał wzrostu: {}%'.format(round(r*100,2)))"
   ]
  },
  {
   "cell_type": "markdown",
   "metadata": {},
   "source": [
    "- Średnioroczny zwrot `ar`"
   ]
  },
  {
   "cell_type": "code",
   "execution_count": 30,
   "metadata": {},
   "outputs": [
    {
     "name": "stdout",
     "output_type": "stream",
     "text": [
      "Średnioroczny zwrot: -2.26%\n"
     ]
    }
   ],
   "source": [
    "ar = ((1 + r) ** (1 / y) - 1)\n",
    "\n",
    "print('Średnioroczny zwrot: {}%'.format(round(ar*100,2)))"
   ]
  },
  {
   "cell_type": "markdown",
   "metadata": {},
   "source": [
    "### 2.5 Podsumowanie wyników metody opartej wzrost wartości księgowej"
   ]
  },
  {
   "cell_type": "code",
   "execution_count": 31,
   "metadata": {},
   "outputs": [
    {
     "name": "stdout",
     "output_type": "stream",
     "text": [
      "Dla spółki: Eurotel (ETL)\n",
      "Przy cenie rynkowej: 37\n",
      "\n",
      "Otrzymano następujące wyniki:\n",
      "Wartość wewnętrzna na 1 akcje: 29.28\n",
      "Potencjał wzrostu: -20.44%\n",
      "Średnioroczny zwrot: -2.26%\n"
     ]
    }
   ],
   "source": [
    "print('Dla spółki:',e)\n",
    "print('Przy cenie rynkowej: {}\\n'.format(round(p)))\n",
    "\n",
    "print('Otrzymano następujące wyniki:')\n",
    "print('Wartość wewnętrzna na 1 akcje: {}'.format(round(iv,2)))\n",
    "print('Potencjał wzrostu: {}%'.format(round(r*100,2)))\n",
    "print('Średnioroczny zwrot: {}%'.format(round(ar*100,2)))"
   ]
  },
  {
   "cell_type": "markdown",
   "metadata": {},
   "source": [
    "## 3. Metoda oparta o ROE"
   ]
  },
  {
   "cell_type": "markdown",
   "metadata": {},
   "source": [
    "Metoda polega na obliczeniu wartości wewnętrznej spółki na podstawie zysku i wskaźnika rentowności kapitału własnego ROE. Wyznacza się wartość wewnętrzną spółki jako iloczyn zysku na akcje i wskaźnika rentowności kapitału i porównuje z obecną ceną akcji."
   ]
  },
  {
   "cell_type": "markdown",
   "metadata": {},
   "source": [
    "Wskaźnik rentowności kapitału własnego (ang. return on equity, ROE, stopa zwrotu z kapitału własnego lub rentowność kapitału własnego) jest to wskaźnik określający jak wiele zysku udało się wygospodarować spółce z wniesionych kapitałów własnych. Wskaźnik ROE stanowi zysk za dany okres do stanu kapitałów własnych na początek danego okresu."
   ]
  },
  {
   "cell_type": "markdown",
   "metadata": {},
   "source": [
    "### 3.1 Parametry badanej spółki"
   ]
  },
  {
   "cell_type": "markdown",
   "metadata": {},
   "source": [
    "- Nazwa spółki `e`"
   ]
  },
  {
   "cell_type": "code",
   "execution_count": 32,
   "metadata": {},
   "outputs": [],
   "source": [
    "e = 'Eurotel (ETL)'"
   ]
  },
  {
   "cell_type": "markdown",
   "metadata": {},
   "source": [
    "- Aktualna cena rynkowa `p`"
   ]
  },
  {
   "cell_type": "code",
   "execution_count": 33,
   "metadata": {},
   "outputs": [],
   "source": [
    "p = 36.8"
   ]
  },
  {
   "cell_type": "markdown",
   "metadata": {},
   "source": [
    "- Ilość akcji `eq`"
   ]
  },
  {
   "cell_type": "code",
   "execution_count": 34,
   "metadata": {},
   "outputs": [],
   "source": [
    "eq = 3748255"
   ]
  },
  {
   "cell_type": "markdown",
   "metadata": {},
   "source": [
    "- Zysk na akcje `p`"
   ]
  },
  {
   "cell_type": "code",
   "execution_count": 35,
   "metadata": {},
   "outputs": [],
   "source": [
    "pv = 4.88"
   ]
  },
  {
   "cell_type": "markdown",
   "metadata": {},
   "source": [
    "- Wskaźnik rentowności kapitału własnego `ROE`"
   ]
  },
  {
   "cell_type": "code",
   "execution_count": 36,
   "metadata": {},
   "outputs": [],
   "source": [
    "ROE = 23.96"
   ]
  },
  {
   "cell_type": "markdown",
   "metadata": {},
   "source": [
    "### 3.2 Wycena spółki"
   ]
  },
  {
   "cell_type": "markdown",
   "metadata": {},
   "source": [
    "- Wartość wewnętrzna na 1 akcje `iv`"
   ]
  },
  {
   "cell_type": "code",
   "execution_count": 37,
   "metadata": {},
   "outputs": [
    {
     "name": "stdout",
     "output_type": "stream",
     "text": [
      "Wartość wewnętrzna: 116.92\n"
     ]
    }
   ],
   "source": [
    "iv = pv * ROE\n",
    "      \n",
    "print('Wartość wewnętrzna: {}'.format(round(iv,2)))"
   ]
  },
  {
   "cell_type": "markdown",
   "metadata": {},
   "source": [
    "- Potencjał spółki wg ROE (akceptowalny poziom powyżej 100%) `r`"
   ]
  },
  {
   "cell_type": "code",
   "execution_count": 38,
   "metadata": {},
   "outputs": [
    {
     "name": "stdout",
     "output_type": "stream",
     "text": [
      "Potencjał wzrostu: 217.73%\n"
     ]
    }
   ],
   "source": [
    "r = (iv - p) / p\n",
    "\n",
    "print('Potencjał wzrostu: {}%'.format(round(r*100,2)))"
   ]
  },
  {
   "cell_type": "markdown",
   "metadata": {},
   "source": [
    "### 3.3 Podsumowanie wyników metody opartej o ROE"
   ]
  },
  {
   "cell_type": "code",
   "execution_count": 39,
   "metadata": {},
   "outputs": [
    {
     "name": "stdout",
     "output_type": "stream",
     "text": [
      "Dla spółki: Eurotel (ETL)\n",
      "Przy cenie rynkowej: 37\n",
      "\n",
      "Otrzymano następujące wyniki:\n",
      "Wartość wewnętrzna na 1 akcje: 116.92\n",
      "Potencjał wzrostu: 217.73%\n"
     ]
    }
   ],
   "source": [
    "print('Dla spółki:',e)\n",
    "print('Przy cenie rynkowej: {}\\n'.format(round(p)))\n",
    "\n",
    "print('Otrzymano następujące wyniki:')\n",
    "print('Wartość wewnętrzna na 1 akcje: {}'.format(round(iv,2)))\n",
    "print('Potencjał wzrostu: {}%'.format(round(r*100,2)))\n"
   ]
  },
  {
   "cell_type": "code",
   "execution_count": null,
   "metadata": {},
   "outputs": [],
   "source": []
  }
 ],
 "metadata": {
  "kernelspec": {
   "display_name": "Python 3",
   "language": "python",
   "name": "python3"
  },
  "language_info": {
   "codemirror_mode": {
    "name": "ipython",
    "version": 3
   },
   "file_extension": ".py",
   "mimetype": "text/x-python",
   "name": "python",
   "nbconvert_exporter": "python",
   "pygments_lexer": "ipython3",
   "version": "3.8.3"
  }
 },
 "nbformat": 4,
 "nbformat_minor": 4
}
