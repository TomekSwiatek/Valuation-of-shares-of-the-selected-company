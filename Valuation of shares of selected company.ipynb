{
 "cells": [
  {
   "cell_type": "markdown",
   "metadata": {},
   "source": [
    "# Valuation of shares of the selected company using 3 methods"
   ]
  },
  {
   "cell_type": "markdown",
   "metadata": {},
   "source": [
    "## 1. Method based on discounted cash flow (DCF)"
   ]
  },
  {
   "cell_type": "markdown",
   "metadata": {},
   "source": [
    "Discounted cash flow (DCF) is one of the methods used to value an investment, company or other asset based on its expected future cash flows and changes in the value of money over time. The purpose of this method is to estimate and discount all future cash flows to determine their present value. The discount rate level is the cost of capital and takes into account the risk assessment regarding future cash flows.<br>\n",
    "The discounted cash flow method is widely used in the areas of financial investment analysis, real estate development and corporate management.\n",
    "The calculations given in the project are based on this method and adapted to the market environment based on personal experience."
   ]
  },
  {
   "cell_type": "markdown",
   "metadata": {},
   "source": [
    "### 1.1 Company parameters "
   ]
  },
  {
   "cell_type": "markdown",
   "metadata": {},
   "source": [
    "- Company name `e`"
   ]
  },
  {
   "cell_type": "code",
   "execution_count": 4,
   "metadata": {},
   "outputs": [],
   "source": [
    "e = 'Eurotel (ETL)'"
   ]
  },
  {
   "cell_type": "markdown",
   "metadata": {},
   "source": [
    "- The current market price `p`"
   ]
  },
  {
   "cell_type": "code",
   "execution_count": 5,
   "metadata": {},
   "outputs": [],
   "source": [
    "p = 36.8"
   ]
  },
  {
   "cell_type": "markdown",
   "metadata": {},
   "source": [
    "- Quantity of shares `eq`"
   ]
  },
  {
   "cell_type": "code",
   "execution_count": 6,
   "metadata": {},
   "outputs": [],
   "source": [
    "eq = 3748255"
   ]
  },
  {
   "cell_type": "markdown",
   "metadata": {},
   "source": [
    "- Average cash flow `acf`"
   ]
  },
  {
   "cell_type": "code",
   "execution_count": 7,
   "metadata": {},
   "outputs": [],
   "source": [
    "acf = 3500*1000"
   ]
  },
  {
   "cell_type": "markdown",
   "metadata": {},
   "source": [
    "- Profit increase (in a given growth period)`gp`"
   ]
  },
  {
   "cell_type": "code",
   "execution_count": 8,
   "metadata": {},
   "outputs": [],
   "source": [
    "gp = 0.15"
   ]
  },
  {
   "cell_type": "markdown",
   "metadata": {},
   "source": [
    "- Profit increase after a given period (assumed 50% decrease, additional cash flow after a period of high growth) `gpa`"
   ]
  },
  {
   "cell_type": "code",
   "execution_count": 9,
   "metadata": {},
   "outputs": [],
   "source": [
    "gpa = 0.075"
   ]
  },
  {
   "cell_type": "markdown",
   "metadata": {},
   "source": [
    "### 1.2 Valuation parameters"
   ]
  },
  {
   "cell_type": "markdown",
   "metadata": {},
   "source": [
    "- Number of years (the base period of the investment) `y`"
   ]
  },
  {
   "cell_type": "code",
   "execution_count": 10,
   "metadata": {},
   "outputs": [],
   "source": [
    "y = 10"
   ]
  },
  {
   "cell_type": "markdown",
   "metadata": {},
   "source": [
    "- Number of additional years (assumed additional investment period) `ya`"
   ]
  },
  {
   "cell_type": "code",
   "execution_count": 11,
   "metadata": {},
   "outputs": [],
   "source": [
    "ya = 20"
   ]
  },
  {
   "cell_type": "markdown",
   "metadata": {},
   "source": [
    "- Discounting (approximate value, based on cost of capital) `d`"
   ]
  },
  {
   "cell_type": "code",
   "execution_count": 12,
   "metadata": {},
   "outputs": [],
   "source": [
    "d = 0.1"
   ]
  },
  {
   "cell_type": "markdown",
   "metadata": {},
   "source": [
    "### 1.3 Calculation of the DFCF"
   ]
  },
  {
   "cell_type": "markdown",
   "metadata": {},
   "source": [
    "- Sum of cash flows in the base period `cft`"
   ]
  },
  {
   "cell_type": "code",
   "execution_count": 20,
   "metadata": {},
   "outputs": [
    {
     "name": "stdout",
     "output_type": "stream",
     "text": [
      "The sum of CF flows in the base period: 81722466\n"
     ]
    }
   ],
   "source": [
    "cf = 0\n",
    "cft = 0\n",
    "for i in range(1, y + 1):\n",
    "    cf = acf * (1 + gp) ** i    #flows in the following years\n",
    "    cft = cft + cf;             #sum of flows \n",
    "    \n",
    "print('The sum of CF flows in the base period: {}'.format(round(cft)))   "
   ]
  },
  {
   "cell_type": "markdown",
   "metadata": {},
   "source": [
    "- The sum of discounted cash flows in the base period `dfcft`"
   ]
  },
  {
   "cell_type": "code",
   "execution_count": 21,
   "metadata": {},
   "outputs": [
    {
     "name": "stdout",
     "output_type": "stream",
     "text": [
      "Sum of discounted DFCF flows in the base period : 45058880\n"
     ]
    }
   ],
   "source": [
    "cf = 0\n",
    "cfl = [0]\n",
    "dfcf = 0\n",
    "dfcft = 0\n",
    "\n",
    "for i in range(1, y + 1):\n",
    "    cf = acf * (1 + gp) ** i   #flows in the following years\n",
    "    cfl.append(cf)             #adding flows to the list\n",
    "    \n",
    "    dfcf = cf / ((1 + d) ** i) #discounted flows in the following years \n",
    "    dfcft = dfcft + dfcf;      #sum of discounted cash flows \n",
    "    \n",
    "print('Sum of discounted DFCF flows in the base period : {}'.format(round(dfcft)))"
   ]
  },
  {
   "cell_type": "markdown",
   "metadata": {},
   "source": [
    "- The sum of discounted cash flows after the base period `dpcft`"
   ]
  },
  {
   "cell_type": "code",
   "execution_count": 22,
   "metadata": {},
   "outputs": [
    {
     "name": "stdout",
     "output_type": "stream",
     "text": [
      "The sum of discounted DFCF flows over the additional period: 86521598\n"
     ]
    }
   ],
   "source": [
    "pcf = 0\n",
    "dpcf = 0\n",
    "dpcft = 0\n",
    "\n",
    "for i in range(1, ya + 1):\n",
    "    pcf = cfl[y] * (1 + gpa) ** i     #flows in subsequent years starting from the end of the base period \n",
    "  \n",
    "    dpcf = pcf / ((1 + d) ** (i + y)) #discounted flows in subsequent years, starting from the end of the analyzed period \n",
    "    dpcft = dpcft + dpcf;             #sum of discounted cash flows \n",
    "\n",
    "print('The sum of discounted DFCF flows over the additional period: {}'.format(round(dpcft)))"
   ]
  },
  {
   "cell_type": "markdown",
   "metadata": {},
   "source": [
    "### 1.4 Company valuation "
   ]
  },
  {
   "cell_type": "markdown",
   "metadata": {},
   "source": [
    "- Intrinsic value per share for the entire period `iv`"
   ]
  },
  {
   "cell_type": "code",
   "execution_count": 23,
   "metadata": {},
   "outputs": [
    {
     "name": "stdout",
     "output_type": "stream",
     "text": [
      "The intrinsic value per share: 35.1\n"
     ]
    }
   ],
   "source": [
    "iv = (dfcft + dpcft) / eq\n",
    "\n",
    "print('The intrinsic value per share: {}'.format(round(iv,2)))"
   ]
  },
  {
   "cell_type": "markdown",
   "metadata": {},
   "source": [
    "- Growth potential according to DCF (acceptable level above 100%) `r`"
   ]
  },
  {
   "cell_type": "code",
   "execution_count": 24,
   "metadata": {},
   "outputs": [
    {
     "name": "stdout",
     "output_type": "stream",
     "text": [
      "Growth potential: -4.61%\n"
     ]
    }
   ],
   "source": [
    "r=((iv - p) / p)\n",
    "\n",
    "print('Growth potential: {}%'.format(round(r*100,2)))"
   ]
  },
  {
   "cell_type": "markdown",
   "metadata": {},
   "source": [
    "- Average annual return `ar`"
   ]
  },
  {
   "cell_type": "code",
   "execution_count": 25,
   "metadata": {},
   "outputs": [
    {
     "name": "stdout",
     "output_type": "stream",
     "text": [
      "Annual return : -0.16%\n"
     ]
    }
   ],
   "source": [
    "ar=((1 + r) ** (1 / (y + ya)) - 1)\n",
    "\n",
    "print('Annual return: {}%'.format(round(ar * 100,2)))"
   ]
  },
  {
   "cell_type": "markdown",
   "metadata": {},
   "source": [
    "### 1.5 Summary of the results of the discounted cash flow method (DCF)"
   ]
  },
  {
   "cell_type": "code",
   "execution_count": 29,
   "metadata": {},
   "outputs": [
    {
     "name": "stdout",
     "output_type": "stream",
     "text": [
      "For the company : Eurotel (ETL)\n",
      "At market price: 37\n",
      "\n",
      "Achived the following results:\n",
      "  - Intrinsic value per share: 35.1\n",
      "  - Growth potential: -4.61%\n",
      "  - Average annual return: -0.16%\n"
     ]
    }
   ],
   "source": [
    "print('For the company :',e)\n",
    "print('At market price: {}\\n'.format(round(p)))\n",
    "\n",
    "print('Achived the following results:')\n",
    "print('  - Intrinsic value per share: {}'.format(round(iv,2)))\n",
    "print('  - Growth potential: {}%'.format(round(r*100,2)))\n",
    "print('  - Average annual return: {}%'.format(round(ar*100,2)))"
   ]
  },
  {
   "cell_type": "markdown",
   "metadata": {},
   "source": [
    "## 2. The method is based on the increase in book value (according to Warren Buffett)"
   ]
  },
  {
   "cell_type": "markdown",
   "metadata": {},
   "source": [
    "The method used to determine the intrinsic value of the company based on the book value. First, the average increase in book value for the selected period is determined. Then the book value is calculated for a given period in the future. Additionally, the value of the dividend paid (if it is) is added to the book value. The final intrinsic value is the book value for x years discounted with the cost of capital, which in this case is the yield on 10-year government bonds. In addition, an assumed value is added to the discount (it is a margin of valuation error)."
   ]
  },
  {
   "cell_type": "markdown",
   "metadata": {},
   "source": [
    "Book value per share = Equity / Number of shares, and indicates the value of the company's assets and informs shareholders of the book value per share."
   ]
  },
  {
   "cell_type": "markdown",
   "metadata": {},
   "source": [
    "### 2.1 Company parameters "
   ]
  },
  {
   "cell_type": "markdown",
   "metadata": {},
   "source": [
    "- Company name  `e`"
   ]
  },
  {
   "cell_type": "code",
   "execution_count": 3,
   "metadata": {},
   "outputs": [],
   "source": [
    "e = 'Eurotel (ETL)'"
   ]
  },
  {
   "cell_type": "markdown",
   "metadata": {},
   "source": [
    "- The current market price `p`"
   ]
  },
  {
   "cell_type": "code",
   "execution_count": 2,
   "metadata": {},
   "outputs": [],
   "source": [
    "p = 36.8"
   ]
  },
  {
   "cell_type": "markdown",
   "metadata": {},
   "source": [
    "- Initial book value per share `bvi`"
   ]
  },
  {
   "cell_type": "code",
   "execution_count": 5,
   "metadata": {},
   "outputs": [],
   "source": [
    "bvi = 6.25"
   ]
  },
  {
   "cell_type": "markdown",
   "metadata": {},
   "source": [
    "- Current book value per share  `bv`"
   ]
  },
  {
   "cell_type": "code",
   "execution_count": 6,
   "metadata": {},
   "outputs": [],
   "source": [
    "bv = 20.37"
   ]
  },
  {
   "cell_type": "markdown",
   "metadata": {},
   "source": [
    "- Number of years with an increase in book value `ywk`"
   ]
  },
  {
   "cell_type": "code",
   "execution_count": 7,
   "metadata": {},
   "outputs": [],
   "source": [
    "ybv = 16"
   ]
  },
  {
   "cell_type": "markdown",
   "metadata": {},
   "source": [
    "- The value of the dividend per share `dv`"
   ]
  },
  {
   "cell_type": "code",
   "execution_count": 8,
   "metadata": {},
   "outputs": [],
   "source": [
    "dv = 0"
   ]
  },
  {
   "cell_type": "markdown",
   "metadata": {},
   "source": [
    "### 2.2 Valuation parameters"
   ]
  },
  {
   "cell_type": "markdown",
   "metadata": {},
   "source": [
    "- Number of years (the base period of the investment) `y`"
   ]
  },
  {
   "cell_type": "code",
   "execution_count": 9,
   "metadata": {},
   "outputs": [],
   "source": [
    "y = 10"
   ]
  },
  {
   "cell_type": "markdown",
   "metadata": {},
   "source": [
    "- Discounting (interest rate on 10-year government bonds) `d`"
   ]
  },
  {
   "cell_type": "code",
   "execution_count": 10,
   "metadata": {},
   "outputs": [],
   "source": [
    "d = 1.56"
   ]
  },
  {
   "cell_type": "markdown",
   "metadata": {},
   "source": [
    "- Additional discounting (approximate value, as an additional margin of valuation error) `da`"
   ]
  },
  {
   "cell_type": "code",
   "execution_count": 11,
   "metadata": {},
   "outputs": [],
   "source": [
    "da = 3"
   ]
  },
  {
   "cell_type": "markdown",
   "metadata": {},
   "source": [
    "### 2.3 Calculation of the book value over the investment period "
   ]
  },
  {
   "cell_type": "markdown",
   "metadata": {},
   "source": [
    "- Average increase in book values `ag`"
   ]
  },
  {
   "cell_type": "code",
   "execution_count": 12,
   "metadata": {},
   "outputs": [
    {
     "name": "stdout",
     "output_type": "stream",
     "text": [
      "Average annual increase in book value: 7.66%\n"
     ]
    }
   ],
   "source": [
    "ag = (bv / bvi) ** (1 / ybv) - 1\n",
    "\n",
    "print('Average annual increase in book value: {}%'.format(round(ag * 100,2)))"
   ]
  },
  {
   "cell_type": "markdown",
   "metadata": {},
   "source": [
    "- Final book value after the investment period `bvf`"
   ]
  },
  {
   "cell_type": "code",
   "execution_count": 13,
   "metadata": {},
   "outputs": [
    {
     "name": "stdout",
     "output_type": "stream",
     "text": [
      "Final book value after the investment period: 42.63\n"
     ]
    }
   ],
   "source": [
    "bvf = (bv * (ag + 1) ** y + dv * y)\n",
    "\n",
    "print('Final book value after the investment period: {}'.format(round(bvf,2)))"
   ]
  },
  {
   "cell_type": "markdown",
   "metadata": {},
   "source": [
    "### 2.4 Company valuation "
   ]
  },
  {
   "cell_type": "markdown",
   "metadata": {},
   "source": [
    "- Intrinsic value per share `iv`"
   ]
  },
  {
   "cell_type": "code",
   "execution_count": 14,
   "metadata": {},
   "outputs": [
    {
     "name": "stdout",
     "output_type": "stream",
     "text": [
      "Intrinsic value per share: 29.28\n"
     ]
    }
   ],
   "source": [
    "iv = bvf / (1 + y * ((d + da) / 100))\n",
    "\n",
    "print('Intrinsic value per share: {}'.format(round(iv,2)))"
   ]
  },
  {
   "cell_type": "markdown",
   "metadata": {},
   "source": [
    "- Growth potential according to DCF (acceptable level above 100%) `r`"
   ]
  },
  {
   "cell_type": "code",
   "execution_count": 18,
   "metadata": {},
   "outputs": [
    {
     "name": "stdout",
     "output_type": "stream",
     "text": [
      "Growth potential: -20.44%\n"
     ]
    }
   ],
   "source": [
    "r = ((iv - p) / p)\n",
    "\n",
    "print('Growth potential: {}%'.format(round(r * 100,2)))"
   ]
  },
  {
   "cell_type": "markdown",
   "metadata": {},
   "source": [
    "- Average annual return `ar`"
   ]
  },
  {
   "cell_type": "code",
   "execution_count": 19,
   "metadata": {},
   "outputs": [
    {
     "name": "stdout",
     "output_type": "stream",
     "text": [
      "Annual return: -2.26%\n"
     ]
    }
   ],
   "source": [
    "ar = ((1 + r) ** (1 / y) - 1)\n",
    "\n",
    "print('Annual return: {}%'.format(round(ar * 100,2)))"
   ]
  },
  {
   "cell_type": "markdown",
   "metadata": {},
   "source": [
    "### 2.5 Summary of the results of the method based on increase in book value "
   ]
  },
  {
   "cell_type": "code",
   "execution_count": 20,
   "metadata": {},
   "outputs": [
    {
     "name": "stdout",
     "output_type": "stream",
     "text": [
      "For the company : Eurotel (ETL)\n",
      "At market price: 37\n",
      "\n",
      "Achived the following results:\n",
      "  - Intrinsic value per share: 29.28\n",
      "  - Growth potential: -20.44%\n",
      "  - Average annual return: -2.26%\n"
     ]
    }
   ],
   "source": [
    "print('For the company :', e)\n",
    "print('At market price: {}\\n'.format(round(p)))\n",
    "\n",
    "print('Achived the following results:')\n",
    "print('  - Intrinsic value per share: {}'.format(round(iv,2)))\n",
    "print('  - Growth potential: {}%'.format(round(r * 100,2)))\n",
    "print('  - Average annual return: {}%'.format(round(ar * 100,2)))"
   ]
  },
  {
   "cell_type": "markdown",
   "metadata": {},
   "source": [
    "## 3. ROE-based method"
   ]
  },
  {
   "cell_type": "markdown",
   "metadata": {},
   "source": [
    "The method used to calculate the intrinsic value of a company based on profit and ROE. The intrinsic value of the company is determined as the product of the earnings per share and the return on equity and then compared with the current share price.<br>\n",
    "The return on equity is an indicator of how much profit the company managed to generate from its equity. ROE is the profit for a given period to equity at the beginning of a given period"
   ]
  },
  {
   "cell_type": "markdown",
   "metadata": {},
   "source": [
    "### 3.1 Company parameters "
   ]
  },
  {
   "cell_type": "markdown",
   "metadata": {},
   "source": [
    "- Company name `e`"
   ]
  },
  {
   "cell_type": "code",
   "execution_count": 1,
   "metadata": {},
   "outputs": [],
   "source": [
    "e = 'Eurotel (ETL)'"
   ]
  },
  {
   "cell_type": "markdown",
   "metadata": {},
   "source": [
    "- The current market price `p`"
   ]
  },
  {
   "cell_type": "code",
   "execution_count": 2,
   "metadata": {},
   "outputs": [],
   "source": [
    "p = 36.8"
   ]
  },
  {
   "cell_type": "markdown",
   "metadata": {},
   "source": [
    "- Quantity of shares `eq`"
   ]
  },
  {
   "cell_type": "code",
   "execution_count": 3,
   "metadata": {},
   "outputs": [],
   "source": [
    "eq = 3748255"
   ]
  },
  {
   "cell_type": "markdown",
   "metadata": {},
   "source": [
    "- Profit per shares `p`"
   ]
  },
  {
   "cell_type": "code",
   "execution_count": 4,
   "metadata": {},
   "outputs": [],
   "source": [
    "pv = 4.88"
   ]
  },
  {
   "cell_type": "markdown",
   "metadata": {},
   "source": [
    "- Return on equity `ROE`"
   ]
  },
  {
   "cell_type": "code",
   "execution_count": 5,
   "metadata": {},
   "outputs": [],
   "source": [
    "ROE = 23.96"
   ]
  },
  {
   "cell_type": "markdown",
   "metadata": {},
   "source": [
    "### 3.2 Company valuation "
   ]
  },
  {
   "cell_type": "markdown",
   "metadata": {},
   "source": [
    "- Intrinsic value per share `iv`"
   ]
  },
  {
   "cell_type": "code",
   "execution_count": 6,
   "metadata": {},
   "outputs": [
    {
     "name": "stdout",
     "output_type": "stream",
     "text": [
      "The intrinsic value: 116.92\n"
     ]
    }
   ],
   "source": [
    "iv = pv * ROE\n",
    "      \n",
    "print('The intrinsic value: {}'.format(round(iv,2)))"
   ]
  },
  {
   "cell_type": "markdown",
   "metadata": {},
   "source": [
    "- The company's potential according to ROE (acceptable level above 100%) `r`"
   ]
  },
  {
   "cell_type": "code",
   "execution_count": 7,
   "metadata": {},
   "outputs": [
    {
     "name": "stdout",
     "output_type": "stream",
     "text": [
      "Growth potential: 217.73%\n"
     ]
    }
   ],
   "source": [
    "r = (iv - p) / p\n",
    "\n",
    "print('Growth potential: {}%'.format(round(r*100,2)))"
   ]
  },
  {
   "cell_type": "markdown",
   "metadata": {},
   "source": [
    "### 3.3 Summary of the results of the ROE-based method"
   ]
  },
  {
   "cell_type": "code",
   "execution_count": 8,
   "metadata": {},
   "outputs": [
    {
     "name": "stdout",
     "output_type": "stream",
     "text": [
      "For the company : Eurotel (ETL)\n",
      "At market price: 37\n",
      "\n",
      "Achived the following results:\n",
      "  - Intrinsic value per share: 116.92\n",
      "  - Growth potential: 217.73%\n"
     ]
    }
   ],
   "source": [
    "print('For the company :',e)\n",
    "print('At market price: {}\\n'.format(round(p)))\n",
    "\n",
    "print('Achived the following results:')\n",
    "print('  - Intrinsic value per share: {}'.format(round(iv,2)))\n",
    "print('  - Growth potential: {}%'.format(round(r*100,2)))\n"
   ]
  },
  {
   "cell_type": "code",
   "execution_count": null,
   "metadata": {},
   "outputs": [],
   "source": []
  }
 ],
 "metadata": {
  "kernelspec": {
   "display_name": "Python 3",
   "language": "python",
   "name": "python3"
  },
  "language_info": {
   "codemirror_mode": {
    "name": "ipython",
    "version": 3
   },
   "file_extension": ".py",
   "mimetype": "text/x-python",
   "name": "python",
   "nbconvert_exporter": "python",
   "pygments_lexer": "ipython3",
   "version": "3.8.3"
  }
 },
 "nbformat": 4,
 "nbformat_minor": 4
}
